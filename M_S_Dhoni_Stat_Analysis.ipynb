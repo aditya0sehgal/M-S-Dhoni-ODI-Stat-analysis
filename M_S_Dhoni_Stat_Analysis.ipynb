{
  "nbformat": 4,
  "nbformat_minor": 0,
  "metadata": {
    "colab": {
      "name": "M.S. Dhoni Stat Analysis.ipynb",
      "provenance": []
    },
    "kernelspec": {
      "name": "python3",
      "display_name": "Python 3"
    },
    "language_info": {
      "name": "python"
    }
  },
  "cells": [
    {
      "cell_type": "markdown",
      "metadata": {
        "id": "CQLRJBVTXi2t"
      },
      "source": [
        "https://www.analyticsvidhya.com/blog/2021/06/analyze-cricket-data-with-python-a-hands-on-guide/"
      ]
    },
    {
      "cell_type": "code",
      "metadata": {
        "id": "TVldupLS3kQo"
      },
      "source": [
        "import pandas as pd\n",
        "import numpy as np\n",
        "import datetime\n",
        "import matplotlib.pyplot as plt\n",
        "import seaborn as sns\n",
        "# reading the dataset\n",
        "df = pd.read_excel('MS_Dhoni_ODI_record.xlsx')"
      ],
      "execution_count": 1,
      "outputs": []
    },
    {
      "cell_type": "markdown",
      "metadata": {
        "id": "McbIfVQTCdk1"
      },
      "source": [
        "IMPORTS AND PULL IN DATA DONE"
      ]
    },
    {
      "cell_type": "code",
      "metadata": {
        "colab": {
          "base_uri": "https://localhost:8080/",
          "height": 424
        },
        "id": "Vjyv3pgU4JRA",
        "outputId": "0d22e3e9-27ea-4c6d-c88b-35e582d9ae57"
      },
      "source": [
        "df"
      ],
      "execution_count": 3,
      "outputs": [
        {
          "output_type": "execute_result",
          "data": {
            "text/html": [
              "<div>\n",
              "<style scoped>\n",
              "    .dataframe tbody tr th:only-of-type {\n",
              "        vertical-align: middle;\n",
              "    }\n",
              "\n",
              "    .dataframe tbody tr th {\n",
              "        vertical-align: top;\n",
              "    }\n",
              "\n",
              "    .dataframe thead th {\n",
              "        text-align: right;\n",
              "    }\n",
              "</style>\n",
              "<table border=\"1\" class=\"dataframe\">\n",
              "  <thead>\n",
              "    <tr style=\"text-align: right;\">\n",
              "      <th></th>\n",
              "      <th>score</th>\n",
              "      <th>runs_scored</th>\n",
              "      <th>balls_faced</th>\n",
              "      <th>strike_rate</th>\n",
              "      <th>fours</th>\n",
              "      <th>sixes</th>\n",
              "      <th>opposition</th>\n",
              "      <th>ground</th>\n",
              "      <th>date</th>\n",
              "      <th>odi_number</th>\n",
              "    </tr>\n",
              "  </thead>\n",
              "  <tbody>\n",
              "    <tr>\n",
              "      <th>0</th>\n",
              "      <td>0</td>\n",
              "      <td>0</td>\n",
              "      <td>1</td>\n",
              "      <td>0</td>\n",
              "      <td>0</td>\n",
              "      <td>0</td>\n",
              "      <td>v Bangladesh</td>\n",
              "      <td>Chattogram</td>\n",
              "      <td>2004-12-23</td>\n",
              "      <td>ODI # 2199</td>\n",
              "    </tr>\n",
              "    <tr>\n",
              "      <th>1</th>\n",
              "      <td>12</td>\n",
              "      <td>12</td>\n",
              "      <td>11</td>\n",
              "      <td>109.09</td>\n",
              "      <td>2</td>\n",
              "      <td>0</td>\n",
              "      <td>v Bangladesh</td>\n",
              "      <td>Dhaka</td>\n",
              "      <td>2004-12-26</td>\n",
              "      <td>ODI # 2201</td>\n",
              "    </tr>\n",
              "    <tr>\n",
              "      <th>2</th>\n",
              "      <td>7*</td>\n",
              "      <td>7</td>\n",
              "      <td>2</td>\n",
              "      <td>350</td>\n",
              "      <td>0</td>\n",
              "      <td>1</td>\n",
              "      <td>v Bangladesh</td>\n",
              "      <td>Dhaka</td>\n",
              "      <td>2004-12-27</td>\n",
              "      <td>ODI # 2202</td>\n",
              "    </tr>\n",
              "    <tr>\n",
              "      <th>3</th>\n",
              "      <td>3</td>\n",
              "      <td>3</td>\n",
              "      <td>7</td>\n",
              "      <td>42.85</td>\n",
              "      <td>0</td>\n",
              "      <td>0</td>\n",
              "      <td>v Pakistan</td>\n",
              "      <td>Kochi</td>\n",
              "      <td>2005-04-02</td>\n",
              "      <td>ODI # 2235</td>\n",
              "    </tr>\n",
              "    <tr>\n",
              "      <th>4</th>\n",
              "      <td>148</td>\n",
              "      <td>148</td>\n",
              "      <td>123</td>\n",
              "      <td>120.32</td>\n",
              "      <td>15</td>\n",
              "      <td>4</td>\n",
              "      <td>v Pakistan</td>\n",
              "      <td>Visakhapatnam</td>\n",
              "      <td>2005-04-05</td>\n",
              "      <td>ODI # 2236</td>\n",
              "    </tr>\n",
              "    <tr>\n",
              "      <th>...</th>\n",
              "      <td>...</td>\n",
              "      <td>...</td>\n",
              "      <td>...</td>\n",
              "      <td>...</td>\n",
              "      <td>...</td>\n",
              "      <td>...</td>\n",
              "      <td>...</td>\n",
              "      <td>...</td>\n",
              "      <td>...</td>\n",
              "      <td>...</td>\n",
              "    </tr>\n",
              "    <tr>\n",
              "      <th>345</th>\n",
              "      <td>56*</td>\n",
              "      <td>56</td>\n",
              "      <td>61</td>\n",
              "      <td>91.8</td>\n",
              "      <td>3</td>\n",
              "      <td>2</td>\n",
              "      <td>v West Indies</td>\n",
              "      <td>Manchester</td>\n",
              "      <td>2019-06-27</td>\n",
              "      <td>ODI # 4175</td>\n",
              "    </tr>\n",
              "    <tr>\n",
              "      <th>346</th>\n",
              "      <td>42*</td>\n",
              "      <td>42</td>\n",
              "      <td>31</td>\n",
              "      <td>135.48</td>\n",
              "      <td>4</td>\n",
              "      <td>1</td>\n",
              "      <td>v England</td>\n",
              "      <td>Birmingham</td>\n",
              "      <td>2019-06-30</td>\n",
              "      <td>ODI # 4179</td>\n",
              "    </tr>\n",
              "    <tr>\n",
              "      <th>347</th>\n",
              "      <td>35</td>\n",
              "      <td>35</td>\n",
              "      <td>33</td>\n",
              "      <td>106.06</td>\n",
              "      <td>4</td>\n",
              "      <td>0</td>\n",
              "      <td>v Bangladesh</td>\n",
              "      <td>Birmingham</td>\n",
              "      <td>2019-07-02</td>\n",
              "      <td>ODI # 4182</td>\n",
              "    </tr>\n",
              "    <tr>\n",
              "      <th>348</th>\n",
              "      <td>DNB</td>\n",
              "      <td>-</td>\n",
              "      <td>-</td>\n",
              "      <td>-</td>\n",
              "      <td>-</td>\n",
              "      <td>-</td>\n",
              "      <td>v Sri Lanka</td>\n",
              "      <td>Leeds</td>\n",
              "      <td>2019-07-06</td>\n",
              "      <td>ODI # 4187</td>\n",
              "    </tr>\n",
              "    <tr>\n",
              "      <th>349</th>\n",
              "      <td>50</td>\n",
              "      <td>50</td>\n",
              "      <td>72</td>\n",
              "      <td>69.44</td>\n",
              "      <td>1</td>\n",
              "      <td>1</td>\n",
              "      <td>v New Zealand</td>\n",
              "      <td>Manchester</td>\n",
              "      <td>2019-07-09</td>\n",
              "      <td>ODI # 4190</td>\n",
              "    </tr>\n",
              "  </tbody>\n",
              "</table>\n",
              "<p>350 rows × 10 columns</p>\n",
              "</div>"
            ],
            "text/plain": [
              "    score runs_scored balls_faced  ...         ground       date  odi_number\n",
              "0       0           0           1  ...     Chattogram 2004-12-23  ODI # 2199\n",
              "1      12          12          11  ...          Dhaka 2004-12-26  ODI # 2201\n",
              "2      7*           7           2  ...          Dhaka 2004-12-27  ODI # 2202\n",
              "3       3           3           7  ...          Kochi 2005-04-02  ODI # 2235\n",
              "4     148         148         123  ...  Visakhapatnam 2005-04-05  ODI # 2236\n",
              "..    ...         ...         ...  ...            ...        ...         ...\n",
              "345   56*          56          61  ...     Manchester 2019-06-27  ODI # 4175\n",
              "346   42*          42          31  ...     Birmingham 2019-06-30  ODI # 4179\n",
              "347    35          35          33  ...     Birmingham 2019-07-02  ODI # 4182\n",
              "348   DNB           -           -  ...          Leeds 2019-07-06  ODI # 4187\n",
              "349    50          50          72  ...     Manchester 2019-07-09  ODI # 4190\n",
              "\n",
              "[350 rows x 10 columns]"
            ]
          },
          "metadata": {},
          "execution_count": 3
        }
      ]
    },
    {
      "cell_type": "markdown",
      "metadata": {
        "id": "JKuK3YbV4lOa"
      },
      "source": [
        "***350 records listed & 10 columns/parameters available***"
      ]
    },
    {
      "cell_type": "code",
      "metadata": {
        "colab": {
          "base_uri": "https://localhost:8080/",
          "height": 206
        },
        "id": "TfDb89va4KHw",
        "outputId": "9d79cf99-43db-4e68-8465-5c7c96df708d"
      },
      "source": [
        "df.head()"
      ],
      "execution_count": 4,
      "outputs": [
        {
          "output_type": "execute_result",
          "data": {
            "text/html": [
              "<div>\n",
              "<style scoped>\n",
              "    .dataframe tbody tr th:only-of-type {\n",
              "        vertical-align: middle;\n",
              "    }\n",
              "\n",
              "    .dataframe tbody tr th {\n",
              "        vertical-align: top;\n",
              "    }\n",
              "\n",
              "    .dataframe thead th {\n",
              "        text-align: right;\n",
              "    }\n",
              "</style>\n",
              "<table border=\"1\" class=\"dataframe\">\n",
              "  <thead>\n",
              "    <tr style=\"text-align: right;\">\n",
              "      <th></th>\n",
              "      <th>score</th>\n",
              "      <th>runs_scored</th>\n",
              "      <th>balls_faced</th>\n",
              "      <th>strike_rate</th>\n",
              "      <th>fours</th>\n",
              "      <th>sixes</th>\n",
              "      <th>opposition</th>\n",
              "      <th>ground</th>\n",
              "      <th>date</th>\n",
              "      <th>odi_number</th>\n",
              "    </tr>\n",
              "  </thead>\n",
              "  <tbody>\n",
              "    <tr>\n",
              "      <th>0</th>\n",
              "      <td>0</td>\n",
              "      <td>0</td>\n",
              "      <td>1</td>\n",
              "      <td>0</td>\n",
              "      <td>0</td>\n",
              "      <td>0</td>\n",
              "      <td>v Bangladesh</td>\n",
              "      <td>Chattogram</td>\n",
              "      <td>2004-12-23</td>\n",
              "      <td>ODI # 2199</td>\n",
              "    </tr>\n",
              "    <tr>\n",
              "      <th>1</th>\n",
              "      <td>12</td>\n",
              "      <td>12</td>\n",
              "      <td>11</td>\n",
              "      <td>109.09</td>\n",
              "      <td>2</td>\n",
              "      <td>0</td>\n",
              "      <td>v Bangladesh</td>\n",
              "      <td>Dhaka</td>\n",
              "      <td>2004-12-26</td>\n",
              "      <td>ODI # 2201</td>\n",
              "    </tr>\n",
              "    <tr>\n",
              "      <th>2</th>\n",
              "      <td>7*</td>\n",
              "      <td>7</td>\n",
              "      <td>2</td>\n",
              "      <td>350</td>\n",
              "      <td>0</td>\n",
              "      <td>1</td>\n",
              "      <td>v Bangladesh</td>\n",
              "      <td>Dhaka</td>\n",
              "      <td>2004-12-27</td>\n",
              "      <td>ODI # 2202</td>\n",
              "    </tr>\n",
              "    <tr>\n",
              "      <th>3</th>\n",
              "      <td>3</td>\n",
              "      <td>3</td>\n",
              "      <td>7</td>\n",
              "      <td>42.85</td>\n",
              "      <td>0</td>\n",
              "      <td>0</td>\n",
              "      <td>v Pakistan</td>\n",
              "      <td>Kochi</td>\n",
              "      <td>2005-04-02</td>\n",
              "      <td>ODI # 2235</td>\n",
              "    </tr>\n",
              "    <tr>\n",
              "      <th>4</th>\n",
              "      <td>148</td>\n",
              "      <td>148</td>\n",
              "      <td>123</td>\n",
              "      <td>120.32</td>\n",
              "      <td>15</td>\n",
              "      <td>4</td>\n",
              "      <td>v Pakistan</td>\n",
              "      <td>Visakhapatnam</td>\n",
              "      <td>2005-04-05</td>\n",
              "      <td>ODI # 2236</td>\n",
              "    </tr>\n",
              "  </tbody>\n",
              "</table>\n",
              "</div>"
            ],
            "text/plain": [
              "  score runs_scored balls_faced  ...         ground       date  odi_number\n",
              "0     0           0           1  ...     Chattogram 2004-12-23  ODI # 2199\n",
              "1    12          12          11  ...          Dhaka 2004-12-26  ODI # 2201\n",
              "2    7*           7           2  ...          Dhaka 2004-12-27  ODI # 2202\n",
              "3     3           3           7  ...          Kochi 2005-04-02  ODI # 2235\n",
              "4   148         148         123  ...  Visakhapatnam 2005-04-05  ODI # 2236\n",
              "\n",
              "[5 rows x 10 columns]"
            ]
          },
          "metadata": {},
          "execution_count": 4
        }
      ]
    },
    {
      "cell_type": "markdown",
      "metadata": {
        "id": "raOASNM35f0u"
      },
      "source": [
        "Remove 'v' from opposition "
      ]
    },
    {
      "cell_type": "code",
      "metadata": {
        "id": "GBEbRGDE5JjJ"
      },
      "source": [
        "df['opposition'] = df['opposition'].apply(lambda x: x[2:])"
      ],
      "execution_count": 5,
      "outputs": []
    },
    {
      "cell_type": "code",
      "metadata": {
        "colab": {
          "base_uri": "https://localhost:8080/",
          "height": 206
        },
        "id": "yLSDpX3h5TZd",
        "outputId": "42fe80d4-029d-4a3c-c551-07b992e6aa36"
      },
      "source": [
        "df.head()"
      ],
      "execution_count": 6,
      "outputs": [
        {
          "output_type": "execute_result",
          "data": {
            "text/html": [
              "<div>\n",
              "<style scoped>\n",
              "    .dataframe tbody tr th:only-of-type {\n",
              "        vertical-align: middle;\n",
              "    }\n",
              "\n",
              "    .dataframe tbody tr th {\n",
              "        vertical-align: top;\n",
              "    }\n",
              "\n",
              "    .dataframe thead th {\n",
              "        text-align: right;\n",
              "    }\n",
              "</style>\n",
              "<table border=\"1\" class=\"dataframe\">\n",
              "  <thead>\n",
              "    <tr style=\"text-align: right;\">\n",
              "      <th></th>\n",
              "      <th>score</th>\n",
              "      <th>runs_scored</th>\n",
              "      <th>balls_faced</th>\n",
              "      <th>strike_rate</th>\n",
              "      <th>fours</th>\n",
              "      <th>sixes</th>\n",
              "      <th>opposition</th>\n",
              "      <th>ground</th>\n",
              "      <th>date</th>\n",
              "      <th>odi_number</th>\n",
              "    </tr>\n",
              "  </thead>\n",
              "  <tbody>\n",
              "    <tr>\n",
              "      <th>0</th>\n",
              "      <td>0</td>\n",
              "      <td>0</td>\n",
              "      <td>1</td>\n",
              "      <td>0</td>\n",
              "      <td>0</td>\n",
              "      <td>0</td>\n",
              "      <td>Bangladesh</td>\n",
              "      <td>Chattogram</td>\n",
              "      <td>2004-12-23</td>\n",
              "      <td>ODI # 2199</td>\n",
              "    </tr>\n",
              "    <tr>\n",
              "      <th>1</th>\n",
              "      <td>12</td>\n",
              "      <td>12</td>\n",
              "      <td>11</td>\n",
              "      <td>109.09</td>\n",
              "      <td>2</td>\n",
              "      <td>0</td>\n",
              "      <td>Bangladesh</td>\n",
              "      <td>Dhaka</td>\n",
              "      <td>2004-12-26</td>\n",
              "      <td>ODI # 2201</td>\n",
              "    </tr>\n",
              "    <tr>\n",
              "      <th>2</th>\n",
              "      <td>7*</td>\n",
              "      <td>7</td>\n",
              "      <td>2</td>\n",
              "      <td>350</td>\n",
              "      <td>0</td>\n",
              "      <td>1</td>\n",
              "      <td>Bangladesh</td>\n",
              "      <td>Dhaka</td>\n",
              "      <td>2004-12-27</td>\n",
              "      <td>ODI # 2202</td>\n",
              "    </tr>\n",
              "    <tr>\n",
              "      <th>3</th>\n",
              "      <td>3</td>\n",
              "      <td>3</td>\n",
              "      <td>7</td>\n",
              "      <td>42.85</td>\n",
              "      <td>0</td>\n",
              "      <td>0</td>\n",
              "      <td>Pakistan</td>\n",
              "      <td>Kochi</td>\n",
              "      <td>2005-04-02</td>\n",
              "      <td>ODI # 2235</td>\n",
              "    </tr>\n",
              "    <tr>\n",
              "      <th>4</th>\n",
              "      <td>148</td>\n",
              "      <td>148</td>\n",
              "      <td>123</td>\n",
              "      <td>120.32</td>\n",
              "      <td>15</td>\n",
              "      <td>4</td>\n",
              "      <td>Pakistan</td>\n",
              "      <td>Visakhapatnam</td>\n",
              "      <td>2005-04-05</td>\n",
              "      <td>ODI # 2236</td>\n",
              "    </tr>\n",
              "  </tbody>\n",
              "</table>\n",
              "</div>"
            ],
            "text/plain": [
              "  score runs_scored balls_faced  ...         ground       date  odi_number\n",
              "0     0           0           1  ...     Chattogram 2004-12-23  ODI # 2199\n",
              "1    12          12          11  ...          Dhaka 2004-12-26  ODI # 2201\n",
              "2    7*           7           2  ...          Dhaka 2004-12-27  ODI # 2202\n",
              "3     3           3           7  ...          Kochi 2005-04-02  ODI # 2235\n",
              "4   148         148         123  ...  Visakhapatnam 2005-04-05  ODI # 2236\n",
              "\n",
              "[5 rows x 10 columns]"
            ]
          },
          "metadata": {},
          "execution_count": 6
        }
      ]
    },
    {
      "cell_type": "code",
      "metadata": {
        "id": "dNBClxzV5X78"
      },
      "source": [
        "df['year'] = df['date'].dt.year.astype(int)"
      ],
      "execution_count": 7,
      "outputs": []
    },
    {
      "cell_type": "markdown",
      "metadata": {
        "id": "-EYQx0xuBQc-"
      },
      "source": [
        "To get just the year part from date."
      ]
    },
    {
      "cell_type": "code",
      "metadata": {
        "colab": {
          "base_uri": "https://localhost:8080/",
          "height": 206
        },
        "id": "mwm8nM5AA-AT",
        "outputId": "c7809eb5-0096-4132-ee09-7a569177afa7"
      },
      "source": [
        "df.head()"
      ],
      "execution_count": 8,
      "outputs": [
        {
          "output_type": "execute_result",
          "data": {
            "text/html": [
              "<div>\n",
              "<style scoped>\n",
              "    .dataframe tbody tr th:only-of-type {\n",
              "        vertical-align: middle;\n",
              "    }\n",
              "\n",
              "    .dataframe tbody tr th {\n",
              "        vertical-align: top;\n",
              "    }\n",
              "\n",
              "    .dataframe thead th {\n",
              "        text-align: right;\n",
              "    }\n",
              "</style>\n",
              "<table border=\"1\" class=\"dataframe\">\n",
              "  <thead>\n",
              "    <tr style=\"text-align: right;\">\n",
              "      <th></th>\n",
              "      <th>score</th>\n",
              "      <th>runs_scored</th>\n",
              "      <th>balls_faced</th>\n",
              "      <th>strike_rate</th>\n",
              "      <th>fours</th>\n",
              "      <th>sixes</th>\n",
              "      <th>opposition</th>\n",
              "      <th>ground</th>\n",
              "      <th>date</th>\n",
              "      <th>odi_number</th>\n",
              "      <th>year</th>\n",
              "    </tr>\n",
              "  </thead>\n",
              "  <tbody>\n",
              "    <tr>\n",
              "      <th>0</th>\n",
              "      <td>0</td>\n",
              "      <td>0</td>\n",
              "      <td>1</td>\n",
              "      <td>0</td>\n",
              "      <td>0</td>\n",
              "      <td>0</td>\n",
              "      <td>Bangladesh</td>\n",
              "      <td>Chattogram</td>\n",
              "      <td>2004-12-23</td>\n",
              "      <td>ODI # 2199</td>\n",
              "      <td>2004</td>\n",
              "    </tr>\n",
              "    <tr>\n",
              "      <th>1</th>\n",
              "      <td>12</td>\n",
              "      <td>12</td>\n",
              "      <td>11</td>\n",
              "      <td>109.09</td>\n",
              "      <td>2</td>\n",
              "      <td>0</td>\n",
              "      <td>Bangladesh</td>\n",
              "      <td>Dhaka</td>\n",
              "      <td>2004-12-26</td>\n",
              "      <td>ODI # 2201</td>\n",
              "      <td>2004</td>\n",
              "    </tr>\n",
              "    <tr>\n",
              "      <th>2</th>\n",
              "      <td>7*</td>\n",
              "      <td>7</td>\n",
              "      <td>2</td>\n",
              "      <td>350</td>\n",
              "      <td>0</td>\n",
              "      <td>1</td>\n",
              "      <td>Bangladesh</td>\n",
              "      <td>Dhaka</td>\n",
              "      <td>2004-12-27</td>\n",
              "      <td>ODI # 2202</td>\n",
              "      <td>2004</td>\n",
              "    </tr>\n",
              "    <tr>\n",
              "      <th>3</th>\n",
              "      <td>3</td>\n",
              "      <td>3</td>\n",
              "      <td>7</td>\n",
              "      <td>42.85</td>\n",
              "      <td>0</td>\n",
              "      <td>0</td>\n",
              "      <td>Pakistan</td>\n",
              "      <td>Kochi</td>\n",
              "      <td>2005-04-02</td>\n",
              "      <td>ODI # 2235</td>\n",
              "      <td>2005</td>\n",
              "    </tr>\n",
              "    <tr>\n",
              "      <th>4</th>\n",
              "      <td>148</td>\n",
              "      <td>148</td>\n",
              "      <td>123</td>\n",
              "      <td>120.32</td>\n",
              "      <td>15</td>\n",
              "      <td>4</td>\n",
              "      <td>Pakistan</td>\n",
              "      <td>Visakhapatnam</td>\n",
              "      <td>2005-04-05</td>\n",
              "      <td>ODI # 2236</td>\n",
              "      <td>2005</td>\n",
              "    </tr>\n",
              "  </tbody>\n",
              "</table>\n",
              "</div>"
            ],
            "text/plain": [
              "  score runs_scored balls_faced  ...       date  odi_number  year\n",
              "0     0           0           1  ... 2004-12-23  ODI # 2199  2004\n",
              "1    12          12          11  ... 2004-12-26  ODI # 2201  2004\n",
              "2    7*           7           2  ... 2004-12-27  ODI # 2202  2004\n",
              "3     3           3           7  ... 2005-04-02  ODI # 2235  2005\n",
              "4   148         148         123  ... 2005-04-05  ODI # 2236  2005\n",
              "\n",
              "[5 rows x 11 columns]"
            ]
          },
          "metadata": {},
          "execution_count": 8
        }
      ]
    },
    {
      "cell_type": "code",
      "metadata": {
        "id": "_38FOxY9BAhy"
      },
      "source": [
        "# creating a feature for being not out\n",
        "df['score'] = df['score'].apply(str)\n",
        "df['not_out'] = np.where(df['score'].str.endswith('*'), 1, 0)"
      ],
      "execution_count": 9,
      "outputs": []
    },
    {
      "cell_type": "markdown",
      "metadata": {
        "id": "IF9TTs5ZBlih"
      },
      "source": [
        "New column with 1 to indicate NOT OUT and 0 to indicate OUT"
      ]
    },
    {
      "cell_type": "code",
      "metadata": {
        "colab": {
          "base_uri": "https://localhost:8080/",
          "height": 226
        },
        "id": "ysmKSeubBctt",
        "outputId": "f90ad8db-c906-463c-bea2-9e8610020bf5"
      },
      "source": [
        "df.head()"
      ],
      "execution_count": 10,
      "outputs": [
        {
          "output_type": "execute_result",
          "data": {
            "text/html": [
              "<div>\n",
              "<style scoped>\n",
              "    .dataframe tbody tr th:only-of-type {\n",
              "        vertical-align: middle;\n",
              "    }\n",
              "\n",
              "    .dataframe tbody tr th {\n",
              "        vertical-align: top;\n",
              "    }\n",
              "\n",
              "    .dataframe thead th {\n",
              "        text-align: right;\n",
              "    }\n",
              "</style>\n",
              "<table border=\"1\" class=\"dataframe\">\n",
              "  <thead>\n",
              "    <tr style=\"text-align: right;\">\n",
              "      <th></th>\n",
              "      <th>score</th>\n",
              "      <th>runs_scored</th>\n",
              "      <th>balls_faced</th>\n",
              "      <th>strike_rate</th>\n",
              "      <th>fours</th>\n",
              "      <th>sixes</th>\n",
              "      <th>opposition</th>\n",
              "      <th>ground</th>\n",
              "      <th>date</th>\n",
              "      <th>odi_number</th>\n",
              "      <th>year</th>\n",
              "      <th>not_out</th>\n",
              "    </tr>\n",
              "  </thead>\n",
              "  <tbody>\n",
              "    <tr>\n",
              "      <th>0</th>\n",
              "      <td>0</td>\n",
              "      <td>0</td>\n",
              "      <td>1</td>\n",
              "      <td>0</td>\n",
              "      <td>0</td>\n",
              "      <td>0</td>\n",
              "      <td>Bangladesh</td>\n",
              "      <td>Chattogram</td>\n",
              "      <td>2004-12-23</td>\n",
              "      <td>ODI # 2199</td>\n",
              "      <td>2004</td>\n",
              "      <td>0</td>\n",
              "    </tr>\n",
              "    <tr>\n",
              "      <th>1</th>\n",
              "      <td>12</td>\n",
              "      <td>12</td>\n",
              "      <td>11</td>\n",
              "      <td>109.09</td>\n",
              "      <td>2</td>\n",
              "      <td>0</td>\n",
              "      <td>Bangladesh</td>\n",
              "      <td>Dhaka</td>\n",
              "      <td>2004-12-26</td>\n",
              "      <td>ODI # 2201</td>\n",
              "      <td>2004</td>\n",
              "      <td>0</td>\n",
              "    </tr>\n",
              "    <tr>\n",
              "      <th>2</th>\n",
              "      <td>7*</td>\n",
              "      <td>7</td>\n",
              "      <td>2</td>\n",
              "      <td>350</td>\n",
              "      <td>0</td>\n",
              "      <td>1</td>\n",
              "      <td>Bangladesh</td>\n",
              "      <td>Dhaka</td>\n",
              "      <td>2004-12-27</td>\n",
              "      <td>ODI # 2202</td>\n",
              "      <td>2004</td>\n",
              "      <td>1</td>\n",
              "    </tr>\n",
              "    <tr>\n",
              "      <th>3</th>\n",
              "      <td>3</td>\n",
              "      <td>3</td>\n",
              "      <td>7</td>\n",
              "      <td>42.85</td>\n",
              "      <td>0</td>\n",
              "      <td>0</td>\n",
              "      <td>Pakistan</td>\n",
              "      <td>Kochi</td>\n",
              "      <td>2005-04-02</td>\n",
              "      <td>ODI # 2235</td>\n",
              "      <td>2005</td>\n",
              "      <td>0</td>\n",
              "    </tr>\n",
              "    <tr>\n",
              "      <th>4</th>\n",
              "      <td>148</td>\n",
              "      <td>148</td>\n",
              "      <td>123</td>\n",
              "      <td>120.32</td>\n",
              "      <td>15</td>\n",
              "      <td>4</td>\n",
              "      <td>Pakistan</td>\n",
              "      <td>Visakhapatnam</td>\n",
              "      <td>2005-04-05</td>\n",
              "      <td>ODI # 2236</td>\n",
              "      <td>2005</td>\n",
              "      <td>0</td>\n",
              "    </tr>\n",
              "  </tbody>\n",
              "</table>\n",
              "</div>"
            ],
            "text/plain": [
              "  score runs_scored balls_faced  ...  odi_number  year not_out\n",
              "0     0           0           1  ...  ODI # 2199  2004       0\n",
              "1    12          12          11  ...  ODI # 2201  2004       0\n",
              "2    7*           7           2  ...  ODI # 2202  2004       1\n",
              "3     3           3           7  ...  ODI # 2235  2005       0\n",
              "4   148         148         123  ...  ODI # 2236  2005       0\n",
              "\n",
              "[5 rows x 12 columns]"
            ]
          },
          "metadata": {},
          "execution_count": 10
        }
      ]
    },
    {
      "cell_type": "code",
      "metadata": {
        "id": "1iht5kZBBggZ"
      },
      "source": [
        "# dropping those innings where Dhoni did not bat and storing in a new DataFrame\n",
        "df_new = df.loc[((df['score'] != 'DNB') & (df['score'] != 'TDNB')), 'runs_scored':]"
      ],
      "execution_count": 11,
      "outputs": []
    },
    {
      "cell_type": "code",
      "metadata": {
        "colab": {
          "base_uri": "https://localhost:8080/",
          "height": 461
        },
        "id": "I13rqzdBCJeo",
        "outputId": "8237c73f-10fc-4380-c1f8-488be9c97287"
      },
      "source": [
        "df_new"
      ],
      "execution_count": 12,
      "outputs": [
        {
          "output_type": "execute_result",
          "data": {
            "text/html": [
              "<div>\n",
              "<style scoped>\n",
              "    .dataframe tbody tr th:only-of-type {\n",
              "        vertical-align: middle;\n",
              "    }\n",
              "\n",
              "    .dataframe tbody tr th {\n",
              "        vertical-align: top;\n",
              "    }\n",
              "\n",
              "    .dataframe thead th {\n",
              "        text-align: right;\n",
              "    }\n",
              "</style>\n",
              "<table border=\"1\" class=\"dataframe\">\n",
              "  <thead>\n",
              "    <tr style=\"text-align: right;\">\n",
              "      <th></th>\n",
              "      <th>runs_scored</th>\n",
              "      <th>balls_faced</th>\n",
              "      <th>strike_rate</th>\n",
              "      <th>fours</th>\n",
              "      <th>sixes</th>\n",
              "      <th>opposition</th>\n",
              "      <th>ground</th>\n",
              "      <th>date</th>\n",
              "      <th>odi_number</th>\n",
              "      <th>year</th>\n",
              "      <th>not_out</th>\n",
              "    </tr>\n",
              "  </thead>\n",
              "  <tbody>\n",
              "    <tr>\n",
              "      <th>0</th>\n",
              "      <td>0</td>\n",
              "      <td>1</td>\n",
              "      <td>0</td>\n",
              "      <td>0</td>\n",
              "      <td>0</td>\n",
              "      <td>Bangladesh</td>\n",
              "      <td>Chattogram</td>\n",
              "      <td>2004-12-23</td>\n",
              "      <td>ODI # 2199</td>\n",
              "      <td>2004</td>\n",
              "      <td>0</td>\n",
              "    </tr>\n",
              "    <tr>\n",
              "      <th>1</th>\n",
              "      <td>12</td>\n",
              "      <td>11</td>\n",
              "      <td>109.09</td>\n",
              "      <td>2</td>\n",
              "      <td>0</td>\n",
              "      <td>Bangladesh</td>\n",
              "      <td>Dhaka</td>\n",
              "      <td>2004-12-26</td>\n",
              "      <td>ODI # 2201</td>\n",
              "      <td>2004</td>\n",
              "      <td>0</td>\n",
              "    </tr>\n",
              "    <tr>\n",
              "      <th>2</th>\n",
              "      <td>7</td>\n",
              "      <td>2</td>\n",
              "      <td>350</td>\n",
              "      <td>0</td>\n",
              "      <td>1</td>\n",
              "      <td>Bangladesh</td>\n",
              "      <td>Dhaka</td>\n",
              "      <td>2004-12-27</td>\n",
              "      <td>ODI # 2202</td>\n",
              "      <td>2004</td>\n",
              "      <td>1</td>\n",
              "    </tr>\n",
              "    <tr>\n",
              "      <th>3</th>\n",
              "      <td>3</td>\n",
              "      <td>7</td>\n",
              "      <td>42.85</td>\n",
              "      <td>0</td>\n",
              "      <td>0</td>\n",
              "      <td>Pakistan</td>\n",
              "      <td>Kochi</td>\n",
              "      <td>2005-04-02</td>\n",
              "      <td>ODI # 2235</td>\n",
              "      <td>2005</td>\n",
              "      <td>0</td>\n",
              "    </tr>\n",
              "    <tr>\n",
              "      <th>4</th>\n",
              "      <td>148</td>\n",
              "      <td>123</td>\n",
              "      <td>120.32</td>\n",
              "      <td>15</td>\n",
              "      <td>4</td>\n",
              "      <td>Pakistan</td>\n",
              "      <td>Visakhapatnam</td>\n",
              "      <td>2005-04-05</td>\n",
              "      <td>ODI # 2236</td>\n",
              "      <td>2005</td>\n",
              "      <td>0</td>\n",
              "    </tr>\n",
              "    <tr>\n",
              "      <th>...</th>\n",
              "      <td>...</td>\n",
              "      <td>...</td>\n",
              "      <td>...</td>\n",
              "      <td>...</td>\n",
              "      <td>...</td>\n",
              "      <td>...</td>\n",
              "      <td>...</td>\n",
              "      <td>...</td>\n",
              "      <td>...</td>\n",
              "      <td>...</td>\n",
              "      <td>...</td>\n",
              "    </tr>\n",
              "    <tr>\n",
              "      <th>344</th>\n",
              "      <td>28</td>\n",
              "      <td>52</td>\n",
              "      <td>53.84</td>\n",
              "      <td>3</td>\n",
              "      <td>0</td>\n",
              "      <td>Afghanistan</td>\n",
              "      <td>Southampton</td>\n",
              "      <td>2019-06-22</td>\n",
              "      <td>ODI # 4169</td>\n",
              "      <td>2019</td>\n",
              "      <td>0</td>\n",
              "    </tr>\n",
              "    <tr>\n",
              "      <th>345</th>\n",
              "      <td>56</td>\n",
              "      <td>61</td>\n",
              "      <td>91.8</td>\n",
              "      <td>3</td>\n",
              "      <td>2</td>\n",
              "      <td>West Indies</td>\n",
              "      <td>Manchester</td>\n",
              "      <td>2019-06-27</td>\n",
              "      <td>ODI # 4175</td>\n",
              "      <td>2019</td>\n",
              "      <td>1</td>\n",
              "    </tr>\n",
              "    <tr>\n",
              "      <th>346</th>\n",
              "      <td>42</td>\n",
              "      <td>31</td>\n",
              "      <td>135.48</td>\n",
              "      <td>4</td>\n",
              "      <td>1</td>\n",
              "      <td>England</td>\n",
              "      <td>Birmingham</td>\n",
              "      <td>2019-06-30</td>\n",
              "      <td>ODI # 4179</td>\n",
              "      <td>2019</td>\n",
              "      <td>1</td>\n",
              "    </tr>\n",
              "    <tr>\n",
              "      <th>347</th>\n",
              "      <td>35</td>\n",
              "      <td>33</td>\n",
              "      <td>106.06</td>\n",
              "      <td>4</td>\n",
              "      <td>0</td>\n",
              "      <td>Bangladesh</td>\n",
              "      <td>Birmingham</td>\n",
              "      <td>2019-07-02</td>\n",
              "      <td>ODI # 4182</td>\n",
              "      <td>2019</td>\n",
              "      <td>0</td>\n",
              "    </tr>\n",
              "    <tr>\n",
              "      <th>349</th>\n",
              "      <td>50</td>\n",
              "      <td>72</td>\n",
              "      <td>69.44</td>\n",
              "      <td>1</td>\n",
              "      <td>1</td>\n",
              "      <td>New Zealand</td>\n",
              "      <td>Manchester</td>\n",
              "      <td>2019-07-09</td>\n",
              "      <td>ODI # 4190</td>\n",
              "      <td>2019</td>\n",
              "      <td>0</td>\n",
              "    </tr>\n",
              "  </tbody>\n",
              "</table>\n",
              "<p>297 rows × 11 columns</p>\n",
              "</div>"
            ],
            "text/plain": [
              "    runs_scored balls_faced strike_rate  ...  odi_number  year not_out\n",
              "0             0           1           0  ...  ODI # 2199  2004       0\n",
              "1            12          11      109.09  ...  ODI # 2201  2004       0\n",
              "2             7           2         350  ...  ODI # 2202  2004       1\n",
              "3             3           7       42.85  ...  ODI # 2235  2005       0\n",
              "4           148         123      120.32  ...  ODI # 2236  2005       0\n",
              "..          ...         ...         ...  ...         ...   ...     ...\n",
              "344          28          52       53.84  ...  ODI # 4169  2019       0\n",
              "345          56          61        91.8  ...  ODI # 4175  2019       1\n",
              "346          42          31      135.48  ...  ODI # 4179  2019       1\n",
              "347          35          33      106.06  ...  ODI # 4182  2019       0\n",
              "349          50          72       69.44  ...  ODI # 4190  2019       0\n",
              "\n",
              "[297 rows x 11 columns]"
            ]
          },
          "metadata": {},
          "execution_count": 12
        }
      ]
    },
    {
      "cell_type": "code",
      "metadata": {
        "id": "2xTt2ZA0CRRj"
      },
      "source": [
        "# fixing the data types of numerical columns\n",
        "df_new['runs_scored'] = df_new['runs_scored'].astype(int)\n",
        "df_new['balls_faced'] = df_new['balls_faced'].astype(int)\n",
        "df_new['strike_rate'] = df_new['strike_rate'].astype(float)\n",
        "df_new['fours'] = df_new['fours'].astype(int)\n",
        "df_new['sixes'] = df_new['sixes'].astype(int)"
      ],
      "execution_count": 14,
      "outputs": []
    },
    {
      "cell_type": "code",
      "metadata": {
        "colab": {
          "base_uri": "https://localhost:8080/",
          "height": 461
        },
        "id": "mAL9BzB-CV3H",
        "outputId": "903bfdb2-21cf-4b32-831d-2a75c50ec12b"
      },
      "source": [
        "df_new"
      ],
      "execution_count": 15,
      "outputs": [
        {
          "output_type": "execute_result",
          "data": {
            "text/html": [
              "<div>\n",
              "<style scoped>\n",
              "    .dataframe tbody tr th:only-of-type {\n",
              "        vertical-align: middle;\n",
              "    }\n",
              "\n",
              "    .dataframe tbody tr th {\n",
              "        vertical-align: top;\n",
              "    }\n",
              "\n",
              "    .dataframe thead th {\n",
              "        text-align: right;\n",
              "    }\n",
              "</style>\n",
              "<table border=\"1\" class=\"dataframe\">\n",
              "  <thead>\n",
              "    <tr style=\"text-align: right;\">\n",
              "      <th></th>\n",
              "      <th>runs_scored</th>\n",
              "      <th>balls_faced</th>\n",
              "      <th>strike_rate</th>\n",
              "      <th>fours</th>\n",
              "      <th>sixes</th>\n",
              "      <th>opposition</th>\n",
              "      <th>ground</th>\n",
              "      <th>date</th>\n",
              "      <th>odi_number</th>\n",
              "      <th>year</th>\n",
              "      <th>not_out</th>\n",
              "    </tr>\n",
              "  </thead>\n",
              "  <tbody>\n",
              "    <tr>\n",
              "      <th>0</th>\n",
              "      <td>0</td>\n",
              "      <td>1</td>\n",
              "      <td>0.00</td>\n",
              "      <td>0</td>\n",
              "      <td>0</td>\n",
              "      <td>Bangladesh</td>\n",
              "      <td>Chattogram</td>\n",
              "      <td>2004-12-23</td>\n",
              "      <td>ODI # 2199</td>\n",
              "      <td>2004</td>\n",
              "      <td>0</td>\n",
              "    </tr>\n",
              "    <tr>\n",
              "      <th>1</th>\n",
              "      <td>12</td>\n",
              "      <td>11</td>\n",
              "      <td>109.09</td>\n",
              "      <td>2</td>\n",
              "      <td>0</td>\n",
              "      <td>Bangladesh</td>\n",
              "      <td>Dhaka</td>\n",
              "      <td>2004-12-26</td>\n",
              "      <td>ODI # 2201</td>\n",
              "      <td>2004</td>\n",
              "      <td>0</td>\n",
              "    </tr>\n",
              "    <tr>\n",
              "      <th>2</th>\n",
              "      <td>7</td>\n",
              "      <td>2</td>\n",
              "      <td>350.00</td>\n",
              "      <td>0</td>\n",
              "      <td>1</td>\n",
              "      <td>Bangladesh</td>\n",
              "      <td>Dhaka</td>\n",
              "      <td>2004-12-27</td>\n",
              "      <td>ODI # 2202</td>\n",
              "      <td>2004</td>\n",
              "      <td>1</td>\n",
              "    </tr>\n",
              "    <tr>\n",
              "      <th>3</th>\n",
              "      <td>3</td>\n",
              "      <td>7</td>\n",
              "      <td>42.85</td>\n",
              "      <td>0</td>\n",
              "      <td>0</td>\n",
              "      <td>Pakistan</td>\n",
              "      <td>Kochi</td>\n",
              "      <td>2005-04-02</td>\n",
              "      <td>ODI # 2235</td>\n",
              "      <td>2005</td>\n",
              "      <td>0</td>\n",
              "    </tr>\n",
              "    <tr>\n",
              "      <th>4</th>\n",
              "      <td>148</td>\n",
              "      <td>123</td>\n",
              "      <td>120.32</td>\n",
              "      <td>15</td>\n",
              "      <td>4</td>\n",
              "      <td>Pakistan</td>\n",
              "      <td>Visakhapatnam</td>\n",
              "      <td>2005-04-05</td>\n",
              "      <td>ODI # 2236</td>\n",
              "      <td>2005</td>\n",
              "      <td>0</td>\n",
              "    </tr>\n",
              "    <tr>\n",
              "      <th>...</th>\n",
              "      <td>...</td>\n",
              "      <td>...</td>\n",
              "      <td>...</td>\n",
              "      <td>...</td>\n",
              "      <td>...</td>\n",
              "      <td>...</td>\n",
              "      <td>...</td>\n",
              "      <td>...</td>\n",
              "      <td>...</td>\n",
              "      <td>...</td>\n",
              "      <td>...</td>\n",
              "    </tr>\n",
              "    <tr>\n",
              "      <th>344</th>\n",
              "      <td>28</td>\n",
              "      <td>52</td>\n",
              "      <td>53.84</td>\n",
              "      <td>3</td>\n",
              "      <td>0</td>\n",
              "      <td>Afghanistan</td>\n",
              "      <td>Southampton</td>\n",
              "      <td>2019-06-22</td>\n",
              "      <td>ODI # 4169</td>\n",
              "      <td>2019</td>\n",
              "      <td>0</td>\n",
              "    </tr>\n",
              "    <tr>\n",
              "      <th>345</th>\n",
              "      <td>56</td>\n",
              "      <td>61</td>\n",
              "      <td>91.80</td>\n",
              "      <td>3</td>\n",
              "      <td>2</td>\n",
              "      <td>West Indies</td>\n",
              "      <td>Manchester</td>\n",
              "      <td>2019-06-27</td>\n",
              "      <td>ODI # 4175</td>\n",
              "      <td>2019</td>\n",
              "      <td>1</td>\n",
              "    </tr>\n",
              "    <tr>\n",
              "      <th>346</th>\n",
              "      <td>42</td>\n",
              "      <td>31</td>\n",
              "      <td>135.48</td>\n",
              "      <td>4</td>\n",
              "      <td>1</td>\n",
              "      <td>England</td>\n",
              "      <td>Birmingham</td>\n",
              "      <td>2019-06-30</td>\n",
              "      <td>ODI # 4179</td>\n",
              "      <td>2019</td>\n",
              "      <td>1</td>\n",
              "    </tr>\n",
              "    <tr>\n",
              "      <th>347</th>\n",
              "      <td>35</td>\n",
              "      <td>33</td>\n",
              "      <td>106.06</td>\n",
              "      <td>4</td>\n",
              "      <td>0</td>\n",
              "      <td>Bangladesh</td>\n",
              "      <td>Birmingham</td>\n",
              "      <td>2019-07-02</td>\n",
              "      <td>ODI # 4182</td>\n",
              "      <td>2019</td>\n",
              "      <td>0</td>\n",
              "    </tr>\n",
              "    <tr>\n",
              "      <th>349</th>\n",
              "      <td>50</td>\n",
              "      <td>72</td>\n",
              "      <td>69.44</td>\n",
              "      <td>1</td>\n",
              "      <td>1</td>\n",
              "      <td>New Zealand</td>\n",
              "      <td>Manchester</td>\n",
              "      <td>2019-07-09</td>\n",
              "      <td>ODI # 4190</td>\n",
              "      <td>2019</td>\n",
              "      <td>0</td>\n",
              "    </tr>\n",
              "  </tbody>\n",
              "</table>\n",
              "<p>297 rows × 11 columns</p>\n",
              "</div>"
            ],
            "text/plain": [
              "     runs_scored  balls_faced  strike_rate  ...  odi_number  year not_out\n",
              "0              0            1         0.00  ...  ODI # 2199  2004       0\n",
              "1             12           11       109.09  ...  ODI # 2201  2004       0\n",
              "2              7            2       350.00  ...  ODI # 2202  2004       1\n",
              "3              3            7        42.85  ...  ODI # 2235  2005       0\n",
              "4            148          123       120.32  ...  ODI # 2236  2005       0\n",
              "..           ...          ...          ...  ...         ...   ...     ...\n",
              "344           28           52        53.84  ...  ODI # 4169  2019       0\n",
              "345           56           61        91.80  ...  ODI # 4175  2019       1\n",
              "346           42           31       135.48  ...  ODI # 4179  2019       1\n",
              "347           35           33       106.06  ...  ODI # 4182  2019       0\n",
              "349           50           72        69.44  ...  ODI # 4190  2019       0\n",
              "\n",
              "[297 rows x 11 columns]"
            ]
          },
          "metadata": {},
          "execution_count": 15
        }
      ]
    },
    {
      "cell_type": "markdown",
      "metadata": {
        "id": "RnWCf6-1CgtG"
      },
      "source": [
        "UNDERSTAND AND MAKE DATA CLEAN & PREP FOR ANALYSIS DONE"
      ]
    },
    {
      "cell_type": "code",
      "metadata": {
        "colab": {
          "base_uri": "https://localhost:8080/"
        },
        "id": "pJCAqQSxCYGl",
        "outputId": "6d008280-7c54-4172-cc0a-cb1d6303107d"
      },
      "source": [
        "first_match_date = df['date'].dt.date.min().strftime('%B %d, %Y') # first match\n",
        "print('First match:', first_match_date)\n",
        "last_match_date = df['date'].dt.date.max().strftime('%B %d, %Y') # last match\n",
        "print('Last match:', last_match_date)\n",
        "number_of_matches = df.shape[0] # number of mathces played in career\n",
        "print('Number of matches played:', number_of_matches)\n",
        "number_of_inns = df_new.shape[0] # number of innings\n",
        "print('Number of innings played:', number_of_inns)\n",
        "not_outs = df_new['not_out'].sum() # number of not outs in career\n",
        "print('Not outs:', not_outs)\n",
        "runs_scored = df_new['runs_scored'].sum() # runs scored in career\n",
        "print('Runs scored in career:', runs_scored)\n",
        "balls_faced = df_new['balls_faced'].sum() # balls faced in career\n",
        "print('Balls faced in career:', balls_faced)\n",
        "career_sr = (runs_scored / balls_faced)*100 # career strike rate\n",
        "print('Career strike rate: {:.2f}'.format(career_sr))\n",
        "career_avg = (runs_scored / (number_of_inns - not_outs)) # career average\n",
        "print('Career average: {:.2f}'.format(career_avg))\n",
        "highest_score_date = df_new.loc[df_new.runs_scored == df_new.runs_scored.max(), 'date'].values[0]\n",
        "highest_score = df.loc[df.date == highest_score_date, 'score'].values[0] # highest score\n",
        "print('Highest score in career:', highest_score)\n",
        "hundreds = df_new.loc[df_new['runs_scored'] >= 100].shape[0] # number of 100s\n",
        "print('Number of 100s:', hundreds)\n",
        "fifties = df_new.loc[(df_new['runs_scored']>=50)&(df_new['runs_scored']<100)].shape[0] #number of 50s\n",
        "print('Number of 50s:', fifties)\n",
        "fours = df_new['fours'].sum() # number of fours in career\n",
        "print('Number of 4s:', fours)\n",
        "sixes = df_new['sixes'].sum() # number of sixes in career\n",
        "print('Number of 6s:', sixes)"
      ],
      "execution_count": 17,
      "outputs": [
        {
          "output_type": "stream",
          "name": "stdout",
          "text": [
            "First match: December 23, 2004\n",
            "Last match: July 09, 2019\n",
            "Number of matches played: 350\n",
            "Number of innings played: 297\n",
            "Not outs: 84\n",
            "Runs scored in career: 10773\n",
            "Balls faced in career: 12303\n",
            "Career strike rate: 87.56\n",
            "Career average: 50.58\n",
            "Highest score in career: 183*\n",
            "Number of 100s: 10\n",
            "Number of 50s: 73\n",
            "Number of 4s: 826\n",
            "Number of 6s: 229\n"
          ]
        }
      ]
    },
    {
      "cell_type": "code",
      "metadata": {
        "colab": {
          "base_uri": "https://localhost:8080/"
        },
        "id": "OMBdvfhFC3id",
        "outputId": "ab6e21b3-5a9e-4417-ff85-52cc5fc35385"
      },
      "source": [
        "df['date'].dt.date"
      ],
      "execution_count": 19,
      "outputs": [
        {
          "output_type": "execute_result",
          "data": {
            "text/plain": [
              "0      2004-12-23\n",
              "1      2004-12-26\n",
              "2      2004-12-27\n",
              "3      2005-04-02\n",
              "4      2005-04-05\n",
              "          ...    \n",
              "345    2019-06-27\n",
              "346    2019-06-30\n",
              "347    2019-07-02\n",
              "348    2019-07-06\n",
              "349    2019-07-09\n",
              "Name: date, Length: 350, dtype: object"
            ]
          },
          "metadata": {},
          "execution_count": 19
        }
      ]
    },
    {
      "cell_type": "code",
      "metadata": {
        "colab": {
          "base_uri": "https://localhost:8080/"
        },
        "id": "OuCXf7O3FenC",
        "outputId": "008facfa-8f08-466a-a7a0-711505925c2a"
      },
      "source": [
        "df['date'].min()"
      ],
      "execution_count": 21,
      "outputs": [
        {
          "output_type": "execute_result",
          "data": {
            "text/plain": [
              "Timestamp('2004-12-23 00:00:00')"
            ]
          },
          "metadata": {},
          "execution_count": 21
        }
      ]
    },
    {
      "cell_type": "markdown",
      "metadata": {
        "id": "VKAGO8-uGHeY"
      },
      "source": [
        "This gives us a good glimpse of MS Dhoni’s overall career. He started playing in 2004, and last played an ODI in 2019. In a career spanning over 15 years, he has scored 10 hundred and an astonishing 73 fifties. He has scored over 10,000 runs in his career at an average of 50.6 and a strike rate of 87.6. His highest score is 183*.\n",
        "\n",
        "We will now do a more thorough analysis of his performance against different teams. We will also look at his year-on-year performance. We will take the help of visualizations for this."
      ]
    },
    {
      "cell_type": "code",
      "metadata": {
        "colab": {
          "base_uri": "https://localhost:8080/",
          "height": 446
        },
        "id": "BO6pVsgqFvOh",
        "outputId": "ce0d5c53-c78e-4e22-c82a-0839b4774ca8"
      },
      "source": [
        "# number of matches played against different oppositions\n",
        "df['opposition'].value_counts().plot(kind='bar', title='Number of matches against different oppositions', figsize=(10, 6));"
      ],
      "execution_count": 24,
      "outputs": [
        {
          "output_type": "display_data",
          "data": {
            "image/png": "[encoded data removed]",
            "text/plain": [
              "<Figure size 720x432 with 1 Axes>"
            ]
          },
          "metadata": {
            "needs_background": "light"
          }
        }
      ]
    },
    {
      "cell_type": "code",
      "metadata": {
        "colab": {
          "base_uri": "https://localhost:8080/",
          "height": 391
        },
        "id": "-ahPQooTG7y5",
        "outputId": "9adc8fdb-bc59-4caf-b2a1-a15d989fe6f7"
      },
      "source": [
        "runs_scored_by_opposition = pd.DataFrame(df_new.groupby('opposition')['runs_scored'].sum())\n",
        "runs_scored_by_opposition.plot(kind='bar', title='Runs scored against different oppositions', figsize=(8, 5))\n",
        "plt.xlabel(None);"
      ],
      "execution_count": 25,
      "outputs": [
        {
          "output_type": "display_data",
          "data": {
            "image/png": "[encoded data removed]",
            "text/plain": [
              "<Figure size 576x360 with 1 Axes>"
            ]
          },
          "metadata": {
            "needs_background": "light"
          }
        }
      ]
    },
    {
      "cell_type": "markdown",
      "metadata": {
        "id": "Du1rGTBTHYnA"
      },
      "source": [
        "We can see that Dhoni has scored the most runs against Sri Lanka, followed by Australia, England, and Pakistan. He has also played a lot of matches against these teams, so it makes sense.\n",
        "\n",
        "To get a clearer picture, let us look at his batting average against each team. The following piece of code will help us with getting the desired result:"
      ]
    },
    {
      "cell_type": "code",
      "metadata": {
        "id": "m8_MEC_oHRcf"
      },
      "source": [
        "innings_by_opposition = pd.DataFrame(df_new.groupby('opposition')['date'].count())\n",
        "not_outs_by_opposition = pd.DataFrame(df_new.groupby('opposition')['not_out'].sum())\n",
        "temp = runs_scored_by_opposition.merge(innings_by_opposition, left_index=True, right_index=True)\n",
        "average_by_opposition = temp.merge(not_outs_by_opposition, left_index=True, right_index=True)\n",
        "average_by_opposition.rename(columns = {'date': 'innings'}, inplace=True)\n",
        "average_by_opposition['eff_num_of_inns'] = average_by_opposition['innings'] - average_by_opposition['not_out']\n",
        "average_by_opposition['average'] = average_by_opposition['runs_scored'] / average_by_opposition['eff_num_of_inns']\n",
        "average_by_opposition.replace(np.inf, np.nan, inplace=True)\n",
        "major_nations = ['Australia', 'England', 'New Zealand', 'Pakistan', 'South Africa', 'Sri Lanka', 'West Indies']"
      ],
      "execution_count": 26,
      "outputs": []
    },
    {
      "cell_type": "code",
      "metadata": {
        "colab": {
          "base_uri": "https://localhost:8080/",
          "height": 336
        },
        "id": "xHv45LVlHdsR",
        "outputId": "50e42bb1-6d46-4ca4-a207-62004c9562cb"
      },
      "source": [
        "plt.figure(figsize = (8, 5))\n",
        "plt.plot(average_by_opposition.loc[major_nations, 'average'].values, marker='o')\n",
        "plt.plot([career_avg]*len(major_nations), '--')\n",
        "plt.title('Average against major teams')\n",
        "plt.xticks(range(0, 7), major_nations)\n",
        "plt.ylim(20, 70)\n",
        "plt.legend(['Avg against opposition', 'Career average']);"
      ],
      "execution_count": 27,
      "outputs": [
        {
          "output_type": "display_data",
          "data": {
            "image/png": "[encoded data removed]",
            "text/plain": [
              "<Figure size 576x360 with 1 Axes>"
            ]
          },
          "metadata": {
            "needs_background": "light"
          }
        }
      ]
    },
    {
      "cell_type": "markdown",
      "metadata": {
        "id": "fYC0BWj8Hqfx"
      },
      "source": [
        "As we can see, Dhoni has performed remarkably against tough teams like Australia, England, and Sri Lanka. His average against these teams is either close to his career average, or slightly higher. The only team against whom he has not performed well is South Africa."
      ]
    },
    {
      "cell_type": "code",
      "metadata": {
        "colab": {
          "base_uri": "https://localhost:8080/",
          "height": 336
        },
        "id": "ljq9PNyxHhoY",
        "outputId": "59a6718c-9092-4bd4-d568-2a653af4d1de"
      },
      "source": [
        "df['year'].value_counts().sort_index().plot(kind='bar', title='Matches played by year', figsize=(8, 5))\n",
        "plt.xticks(rotation=0);"
      ],
      "execution_count": 28,
      "outputs": [
        {
          "output_type": "display_data",
          "data": {
            "image/png": "[encoded data removed]",
            "text/plain": [
              "<Figure size 576x360 with 1 Axes>"
            ]
          },
          "metadata": {
            "needs_background": "light"
          }
        }
      ]
    },
    {
      "cell_type": "markdown",
      "metadata": {
        "id": "x07kCD2_H4Df"
      },
      "source": [
        "We should also look at how many runs he has scored every year. The code for that will be:\n"
      ]
    },
    {
      "cell_type": "code",
      "metadata": {
        "colab": {
          "base_uri": "https://localhost:8080/",
          "height": 336
        },
        "id": "uSLhQGczHx0s",
        "outputId": "5eca3012-73e1-4a81-ee37-86e0df24c37c"
      },
      "source": [
        "\n",
        "df_new.groupby('year')['runs_scored'].sum().plot(kind='line', marker='o', title='Runs scored by year', figsize=(8, 5))\n",
        "years = df['year'].unique().tolist()\n",
        "plt.xticks(years)\n",
        "plt.xlabel(None);"
      ],
      "execution_count": 29,
      "outputs": [
        {
          "output_type": "display_data",
          "data": {
            "image/png": "[encoded data removed]",
            "text/plain": [
              "<Figure size 576x360 with 1 Axes>"
            ]
          },
          "metadata": {
            "needs_background": "light"
          }
        }
      ]
    },
    {
      "cell_type": "code",
      "metadata": {
        "id": "_8KA2za4H44S"
      },
      "source": [
        ""
      ],
      "execution_count": null,
      "outputs": []
    }
  ]
}